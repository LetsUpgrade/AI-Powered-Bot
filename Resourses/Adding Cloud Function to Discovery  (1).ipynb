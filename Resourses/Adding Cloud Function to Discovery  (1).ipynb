{
 "cells": [
  {
   "cell_type": "code",
   "execution_count": 1,
   "metadata": {},
   "outputs": [
    {
     "name": "stderr",
     "output_type": "stream",
     "text": [
      "Cloning into 'Lab4-Adding-Discovery-to-Chatbot'...\n"
     ]
    }
   ],
   "source": [
    "%%bash\n",
    "mkdir lab4\n",
    "cd lab4\n",
    "git clone https://github.com/sophiajwchoi/Lab4-Adding-Discovery-to-Chatbot.git"
   ]
  },
  {
   "cell_type": "code",
   "execution_count": 16,
   "metadata": {},
   "outputs": [
    {
     "name": "stdout",
     "output_type": "stream",
     "text": [
      "Collecting package metadata (current_repodata.json): ...working... done\n",
      "Solving environment: ...working... done\n",
      "\n",
      "# All requested packages already installed.\n",
      "\n",
      "audited 130 packages in 14.939s\n",
      "found 4 vulnerabilities (2 low, 2 high)\n",
      "  run `npm audit fix` to fix them, or `npm audit` for details\n"
     ]
    }
   ],
   "source": [
    "%%bash\n",
    "cd /resources/lab4/Lab4-Adding-Discovery-to-Chatbot\n",
    "export npm_config_loglevel=silent\n",
    "conda config --set notify_outdated_conda false\n",
    "conda install nodejs -y\n",
    "rm -f ~/.npmrc\n",
    "npm install"
   ]
  },
  {
   "cell_type": "code",
   "execution_count": 17,
   "metadata": {},
   "outputs": [
    {
     "name": "stdout",
     "output_type": "stream",
     "text": [
      "\u001b[37;40mnpm\u001b[0m \u001b[0m\u001b[31;40mERR!\u001b[0m \u001b[0m\u001b[35mcode\u001b[0m EAUDITNOPJSON\n",
      "\u001b[0m\u001b[37;40mnpm\u001b[0m \u001b[0m\u001b[31;40mERR!\u001b[0m \u001b[0m\u001b[35maudit\u001b[0m No package.json found: Cannot audit a project without a package.json\n",
      "\u001b[0m\n",
      "\u001b[37;40mnpm\u001b[0m \u001b[0m\u001b[31;40mERR!\u001b[0m\u001b[35m\u001b[0m A complete log of this run can be found in:\n",
      "\u001b[0m\u001b[37;40mnpm\u001b[0m \u001b[0m\u001b[31;40mERR!\u001b[0m\u001b[35m\u001b[0m     /home/jupyterlab/.npm/_logs/2020-08-23T05_33_44_294Z-debug.log\n",
      "\u001b[0m"
     ]
    }
   ],
   "source": [
    "!npm audit fix"
   ]
  },
  {
   "cell_type": "code",
   "execution_count": 18,
   "metadata": {},
   "outputs": [
    {
     "name": "stdout",
     "output_type": "stream",
     "text": [
      "\u001b[37;40mnpm\u001b[0m \u001b[0m\u001b[31;40mERR!\u001b[0m \u001b[0m\u001b[35mcode\u001b[0m EAUDITNOPJSON\n",
      "\u001b[0m\u001b[37;40mnpm\u001b[0m \u001b[0m\u001b[31;40mERR!\u001b[0m \u001b[0m\u001b[35maudit\u001b[0m No package.json found: Cannot audit a project without a package.json\n",
      "\u001b[0m\n",
      "\u001b[37;40mnpm\u001b[0m \u001b[0m\u001b[31;40mERR!\u001b[0m\u001b[35m\u001b[0m A complete log of this run can be found in:\n",
      "\u001b[0m\u001b[37;40mnpm\u001b[0m \u001b[0m\u001b[31;40mERR!\u001b[0m\u001b[35m\u001b[0m     /home/jupyterlab/.npm/_logs/2020-08-23T05_33_47_873Z-debug.log\n",
      "\u001b[0m"
     ]
    }
   ],
   "source": [
    "!npm audit"
   ]
  },
  {
   "cell_type": "code",
   "execution_count": 19,
   "metadata": {},
   "outputs": [
    {
     "name": "stdout",
     "output_type": "stream",
     "text": [
      "API endpoint: https://cloud.ibm.com\n",
      "Region: eu-gb\n",
      "\n",
      "Email> xoyofal272@kleogb.com\n",
      "\n",
      "Password> \n",
      "Authenticating...\n",
      "OK\n",
      "\n",
      "Targeted account Kartikeya Singh's Account (a6fadfb42e2440feb005e46f8b0b1a68)\n",
      "\n",
      "                      \n",
      "API endpoint:      https://cloud.ibm.com   \n",
      "Region:               \n",
      "User:              xoyofal272@kleogb.com   \n",
      "Account:           Kartikeya Singh's Account (a6fadfb42e2440feb005e46f8b0b1a68)   \n",
      "Resource group:    No resource group targeted, use 'ibmcloud target -g RESOURCE_GROUP'   \n",
      "CF API endpoint:      \n",
      "Org:                  \n",
      "Space:                \n"
     ]
    }
   ],
   "source": [
    "%%bash\n",
    "ibmcloud config --check-version=false\n",
    "ibmcloud login --no-region\n",
    "xoyofal272@kleogb.com\n",
    "Hellobro@1"
   ]
  },
  {
   "cell_type": "code",
   "execution_count": 20,
   "metadata": {},
   "outputs": [
    {
     "name": "stdout",
     "output_type": "stream",
     "text": [
      "Getting orgs in all regions as xoyofal272@kleogb.com...\n",
      "Retrieving current account...\n",
      "OK\n",
      "\n",
      "Name                    Region   Account owner           Account ID                         Status   \n",
      "xoyofal272@kleogb.com   eu-gb    xoyofal272@kleogb.com   a6fadfb42e2440feb005e46f8b0b1a68   active   \n",
      "\n"
     ]
    }
   ],
   "source": [
    "%%bash\n",
    "ibmcloud account orgs"
   ]
  },
  {
   "cell_type": "code",
   "execution_count": 23,
   "metadata": {},
   "outputs": [
    {
     "name": "stdout",
     "output_type": "stream",
     "text": [
      "Switched to region eu-gb\n",
      "\n",
      "Targeted Cloud Foundry (https://api.eu-gb.cf.cloud.ibm.com)\n",
      "\n",
      "Targeted org xoyofal272@kleogb.com\n",
      "\n",
      "\n",
      "                      \n",
      "API endpoint:      https://cloud.ibm.com   \n",
      "Region:            eu-gb   \n",
      "User:              xoyofal272@kleogb.com   \n",
      "Account:           Kartikeya Singh's Account (a6fadfb42e2440feb005e46f8b0b1a68)   \n",
      "Resource group:    No resource group targeted, use 'ibmcloud target -g RESOURCE_GROUP'   \n",
      "CF API endpoint:   https://api.eu-gb.cf.cloud.ibm.com (API version: 2.151.0)   \n",
      "Org:               xoyofal272@kleogb.com   \n",
      "Space:                \n",
      "Creating space lab4 in org xoyofal272@kleogb.com as xoyofal272@kleogb.com...\n",
      "OK\n",
      "Assigning role SpaceManager to user xoyofal272@kleogb.com in org xoyofal272@kleogb.com / space lab4 as xoyofal272@kleogb.com...\n",
      "OK\n",
      "Assigning role SpaceDeveloper to user xoyofal272@kleogb.com in org xoyofal272@kleogb.com / space lab4 as xoyofal272@kleogb.com...\n",
      "OK\n"
     ]
    }
   ],
   "source": [
    "%%bash\n",
    "ibmcloud target --cf-api 'https://api.eu-gb.cf.cloud.ibm.com' -r eu-gb -o xoyofal272@kleogb.com\n",
    "ibmcloud account space-create 'lab4'"
   ]
  },
  {
   "cell_type": "code",
   "execution_count": 24,
   "metadata": {},
   "outputs": [
    {
     "name": "stdout",
     "output_type": "stream",
     "text": [
      "Targeted space lab4\n",
      "\n",
      "\n",
      "                      \n",
      "API endpoint:      https://cloud.ibm.com   \n",
      "Region:            eu-gb   \n",
      "User:              xoyofal272@kleogb.com   \n",
      "Account:           Kartikeya Singh's Account (a6fadfb42e2440feb005e46f8b0b1a68)   \n",
      "Resource group:    No resource group targeted, use 'ibmcloud target -g RESOURCE_GROUP'   \n",
      "CF API endpoint:   https://api.eu-gb.cf.cloud.ibm.com (API version: 2.151.0)   \n",
      "Org:               xoyofal272@kleogb.com   \n",
      "Space:             lab4   \n",
      "Looking up 'cloud-functions' from repository 'IBM Cloud'...\n",
      "Plug-in 'cloud-functions/wsk/functions/fn 1.0.45' found in repository 'IBM Cloud'\n",
      "Attempting to download the binary file...\n",
      " 14.36 MiB / 14.36 MiB  100.00% 1s9s\n",
      "15052434 bytes downloaded\n",
      "Installing binary...\n",
      "OK\n",
      "Plug-in 'cloud-functions 1.0.45' was successfully installed into /home/jupyterlab/.bluemix/plugins/cloud-functions. Use 'ibmcloud plugin show cloud-functions' to show its details.\n",
      "/home/jupyterlab/conda/envs/python/bin/serverless -> /home/jupyterlab/conda/envs/python/lib/node_modules/serverless/bin/serverless.js\n",
      "/home/jupyterlab/conda/envs/python/bin/slss -> /home/jupyterlab/conda/envs/python/lib/node_modules/serverless/bin/serverless.js\n",
      "/home/jupyterlab/conda/envs/python/bin/sls -> /home/jupyterlab/conda/envs/python/lib/node_modules/serverless/bin/serverless.js\n",
      " +--------------------------------------------------+\n",
      " |                                                  |\n",
      " |  Serverless Framework successfully installed!    |\n",
      " |  To start your first project, run “serverless”.  |\n",
      " |                                                  |\n",
      " +--------------------------------------------------+\n",
      "\n",
      "+ serverless@1.51.0\n",
      "updated 1 package in 41.521s\n",
      "Manage Cloud Functions\n",
      "Usage:\n",
      "  wsk [command]\n",
      "\n",
      "Available Commands:\n",
      "  action      work with actions\n",
      "  activation  work with activations\n",
      "  package     work with packages\n",
      "  rule        work with rules\n",
      "  trigger     work with triggers\n",
      "  sdk         work with the sdk\n",
      "  list        list entities in the current namespace\n",
      "  api         work with APIs\n",
      "  service     Bind and unbind service credentials to an action or package.\n",
      "  deploy      Deploy a collection of packages, actions, triggers and rules with a deployment manifest file\n",
      "  undeploy    Undeploy a previously deployed collection of packages, actions, triggers and rules\n",
      "  property    work with whisk properties\n",
      "  namespace   Work with IAM-based and Cloud Foundry-based namespaces.\n",
      "\n",
      "\n",
      "Flags:\n",
      "      --apihost HOST         whisk API HOST\n",
      "      --apiversion VERSION   whisk API VERSION\n",
      "  -u, --auth KEY             authorization KEY\n",
      "  -d, --debug                debug level output\n",
      "  -i, --insecure             bypass certificate checking\n",
      "  -v, --verbose              verbose output\n",
      "\n",
      "Use \"wsk [command] --help\" for more information about a command.\n",
      "Entities in namespace: default\n",
      "packages\n",
      "actions\n",
      "triggers\n",
      "rules\n",
      "Serverless: Packaging service...\n",
      "Serverless: Excluding development dependencies...\n",
      "Serverless: Compiling Functions...\n",
      "Serverless: Compiling Packages...\n",
      "Serverless: Compiling API Gateway definitions...\n",
      "Serverless: Compiling Rules...\n",
      "Serverless: Compiling Triggers & Feeds...\n",
      "Serverless: Compiling Service Bindings...\n",
      "Serverless: Deploying Packages...\n",
      "Serverless: Deploying Functions...\n",
      "Serverless: Deployment successful!\n",
      "\n",
      "Service Information\n",
      "platform:\teu-gb.functions.cloud.ibm.com\n",
      "namespace:\t_\n",
      "service:\tlab-4\n",
      "\n",
      "packages:\n",
      "lab4\n",
      "\n",
      "actions:\n",
      "lab4/connectDiscovery\n",
      "\n",
      "triggers:\n",
      "**no triggers deployed**\n",
      "\n",
      "rules:\n",
      "**no rules deployed**\n",
      "\n",
      "endpoints (api-gw):\n",
      "**no routes deployed**\n",
      "\n",
      "endpoints (web actions):\n",
      "**no web actions deployed**\n",
      "\n"
     ]
    }
   ],
   "source": [
    "%%bash\n",
    "cd /resources/lab4/Lab4-Adding-Discovery-to-Chatbot\n",
    "ibmcloud target -s lab4\n",
    "ibmcloud plugin install cloud-functions -f\n",
    "export npm_config_loglevel=silent\n",
    "npm install -g serverless@1.51.0\n",
    "ibmcloud fn --apihost eu-gb.functions.cloud.ibm.com\n",
    "ibmcloud fn list --apihost eu-gb.functions.cloud.ibm.com\n",
    "serverless deploy"
   ]
  },
  {
   "cell_type": "code",
   "execution_count": 25,
   "metadata": {},
   "outputs": [
    {
     "name": "stdout",
     "output_type": "stream",
     "text": [
      "Entities in namespace: \u001b[1mdefault\u001b[0m\n",
      "\u001b[1mpackages\n",
      "\u001b[0m/xoyofal272@kleogb.com_lab4/lab4                                       private\n",
      "\u001b[1mactions\n",
      "\u001b[0m/xoyofal272@kleogb.com_lab4/lab4/connectDiscovery                      private nodejs:10\n",
      "\u001b[1mtriggers\u001b[0m\n",
      "\u001b[1mrules\u001b[0m\n"
     ]
    }
   ],
   "source": [
    "!ibmcloud fn list"
   ]
  },
  {
   "cell_type": "code",
   "execution_count": null,
   "metadata": {},
   "outputs": [],
   "source": []
  },
  {
   "cell_type": "code",
   "execution_count": null,
   "metadata": {},
   "outputs": [],
   "source": []
  }
 ],
 "metadata": {
  "kernelspec": {
   "display_name": "Python",
   "language": "python",
   "name": "conda-env-python-py"
  },
  "language_info": {
   "codemirror_mode": {
    "name": "ipython",
    "version": 3
   },
   "file_extension": ".py",
   "mimetype": "text/x-python",
   "name": "python",
   "nbconvert_exporter": "python",
   "pygments_lexer": "ipython3",
   "version": "3.6.11"
  }
 },
 "nbformat": 4,
 "nbformat_minor": 4
}
